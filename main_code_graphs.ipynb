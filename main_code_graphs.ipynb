{
 "cells": [
  {
   "cell_type": "raw",
   "id": "23ca1999-b6d3-40ee-9f7d-2dafb1d74445",
   "metadata": {},
   "source": [
    "Project: FSDS final group work.\n",
    "Topic: Airbnb and crime.\n",
    "Due Date: December 19, 2023.\n",
    "\n",
    "Insights: Aibnb density is connected to higher incidents of (person/property) crime\n",
    "Policy recommendation: "
   ]
  },
  {
   "cell_type": "markdown",
   "id": "ea2369b2-a45e-4059-9ef1-7a61f3440b74",
   "metadata": {},
   "source": [
    "### Data cleaning\n",
    "\n"
   ]
  },
  {
   "cell_type": "markdown",
   "id": "d1d0a730-3255-4c10-98fb-efbbbf1d4a01",
   "metadata": {},
   "source": [
    "Task 0a: Data cleaning"
   ]
  },
  {
   "cell_type": "code",
   "execution_count": null,
   "id": "dcfe125d-51f6-4a82-b29c-07a40b914049",
   "metadata": {},
   "outputs": [],
   "source": []
  },
  {
   "cell_type": "markdown",
   "id": "35636241-c856-4987-aa68-40029404f7dd",
   "metadata": {},
   "source": [
    "Task 0b: Prepare London spatial data (borough and LSOA)"
   ]
  },
  {
   "cell_type": "code",
   "execution_count": null,
   "id": "25a8fadb-fe41-48e0-a3fb-4d1a494cfd67",
   "metadata": {},
   "outputs": [],
   "source": []
  },
  {
   "cell_type": "markdown",
   "id": "8a927768-fb15-4cf4-bc54-5bcf0957d168",
   "metadata": {},
   "source": [
    "### Descriptive statistics (Question #6 - 18 points)\n",
    "\n",
    "*Objective:* \n",
    "Show the clustering of airbnb (by type), and crime incidents (by type). Show possible correlations between airbnb density and crime incidents\n",
    "Approach: \n",
    "\n",
    "1. Split airbnb listing by 3 types (entire house/private room/shared room), and crime by 2 types (person vs property)\n",
    "2. Plot out all the airbnb listings.\n",
    "     - Heat map (KDE for each)\n",
    "     - Descriptive statistics for each (LSOA min, max, mean, median)\n",
    "3. PLot all the crime incidents, split by .\n",
    "    - Heat map (KDE for each)\n",
    "    - Descriptive statistics for each (LSOA min, max, mean, median)\n",
    "4. Visual observation based on the heatmaps above where airbnb listings and crimes seem to overlap\n",
    "5. Run Pearson correlations: (See QM practical 3-4)\n",
    "\n",
    "*Notes:* \n",
    "\n",
    "- [From Kernel Density Estimation to Spatial Analysis In Python](https://towardsdatascience.com/from-kernel-density-estimation-to-spatial-analysis-in-python-64ddcdb6bc9b)\n",
    "- [Airbnb and neighborhood crime: The incursion of tourists or the erosion of local social dynamics?](https://www.ncbi.nlm.nih.gov/pmc/articles/PMC8279333/): \"We find evidence that increases in Airbnb listings led to more violence in neighborhoods in later years. This result supports the notion that the prevalence of Airbnb listings erodes the natural ability of a neighborhood to prevent crime, but does not support the interpretation that elevated numbers of tourists bring crime with them.\"\n",
    "\n",
    "-------------------------------------------------------------------------------"
   ]
  },
  {
   "cell_type": "markdown",
   "id": "46aedfa5-353a-4896-837f-75e197f67d22",
   "metadata": {},
   "source": [
    "Task 1: Split airbnb listing by 3 types (entire house/private room/shared room), and crime by 2 types (person vs property)\n"
   ]
  },
  {
   "cell_type": "markdown",
   "id": "0dca8cf8-5e9b-4056-aed0-0c1ae32404b0",
   "metadata": {},
   "source": []
  },
  {
   "cell_type": "markdown",
   "id": "78296b64-5422-49f9-a476-532fc4cc7d49",
   "metadata": {},
   "source": [
    "Task 2: Plot out all the airbnb listings. Produce heat map for each type"
   ]
  },
  {
   "cell_type": "code",
   "execution_count": null,
   "id": "9c7c2dfc-59a4-4015-8ed1-a8dd739219e1",
   "metadata": {},
   "outputs": [],
   "source": []
  },
  {
   "cell_type": "markdown",
   "id": "faa268f7-f0e3-4b5b-9dcc-9ca652fe2d88",
   "metadata": {},
   "source": [
    "Task 3: Plot out all the crime incidents. Produce heat map for each type"
   ]
  },
  {
   "cell_type": "code",
   "execution_count": null,
   "id": "43025aff-da79-4a25-ae38-ecd96ec47973",
   "metadata": {},
   "outputs": [],
   "source": []
  },
  {
   "cell_type": "markdown",
   "id": "85dac7ed-969b-4e29-9265-3d4f9a258da9",
   "metadata": {},
   "source": [
    "Task 4: Visual observation based on the heatmaps above where airbnb listings and crimes seem to overlap"
   ]
  },
  {
   "cell_type": "code",
   "execution_count": null,
   "id": "58d9682f-87dd-44ff-b1c8-84982924179b",
   "metadata": {},
   "outputs": [],
   "source": []
  },
  {
   "cell_type": "markdown",
   "id": "51837172-1658-435c-9732-8ad9825e0880",
   "metadata": {},
   "source": [
    "Task 5: Run Pearson correlations: (See QM practical 3-4)"
   ]
  },
  {
   "cell_type": "markdown",
   "id": "a8f860bb-9d1e-45a9-b921-252eb6a14fa1",
   "metadata": {},
   "source": [
    "### Inferring statistics (Question #7 - 45 points)\n",
    "\n",
    "*Objective:* \n",
    "Show causation \n",
    "\n",
    "1. Split airbnb listing by 3 types (entire house/private room/shared room), and crime by 2 types (person vs property)\n",
    "2. Plot out all the airbnb listings.\n",
    "     - Heat map (KDE for each)\n",
    "     - Descriptive statistics for each (LSOA min, max, mean, median)\n",
    "3. PLot all the crime incidents, split by .\n",
    "    - Heat map (KDE for each)\n",
    "    - Descriptive statistics for each (LSOA min, max, mean, median)\n",
    "4. Visual observation based on the heatmaps above where airbnb listings and crimes seem to overlap\n",
    "5. Run Pearson correlations: (See QM practical 3-4)\n",
    "\n",
    "*Notes:* \n",
    "\n",
    "- [From Kernel Density Estimation to Spatial Analysis In Python](https://towardsdatascience.com/from-kernel-density-estimation-to-spatial-analysis-in-python-64ddcdb6bc9b)\n",
    "- [Airbnb and neighborhood crime: The incursion of tourists or the erosion of local social dynamics?](https://www.ncbi.nlm.nih.gov/pmc/articles/PMC8279333/): \"We find evidence that increases in Airbnb listings led to more violence in neighborhoods in later years. This result supports the notion that the prevalence of Airbnb listings erodes the natural ability of a neighborhood to prevent crime, but does not support the interpretation that elevated numbers of tourists bring crime with them.\"\n",
    "\n",
    "-------------------------------------------------------------------------------"
   ]
  }
 ],
 "metadata": {
  "kernelspec": {
   "display_name": "Python 3 (ipykernel)",
   "language": "python",
   "name": "python3"
  },
  "language_info": {
   "codemirror_mode": {
    "name": "ipython",
    "version": 3
   },
   "file_extension": ".py",
   "mimetype": "text/x-python",
   "name": "python",
   "nbconvert_exporter": "python",
   "pygments_lexer": "ipython3",
   "version": "3.11.5"
  }
 },
 "nbformat": 4,
 "nbformat_minor": 5
}
